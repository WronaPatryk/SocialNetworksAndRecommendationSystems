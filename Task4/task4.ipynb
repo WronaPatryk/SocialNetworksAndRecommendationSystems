{
 "cells": [
  {
   "cell_type": "code",
   "execution_count": 1,
   "id": "c12e8feb",
   "metadata": {},
   "outputs": [],
   "source": [
    "import networkx as nx\n",
    "import matplotlib.pyplot as plt\n",
    "\n",
    "\n",
    "import pandas as pd\n",
    "import numpy as np"
   ]
  },
  {
   "cell_type": "markdown",
   "id": "e85d4642",
   "metadata": {},
   "source": [
    "# 4.7 \n",
    "\n",
    "* wheter is directed ?\n",
    "* n of vertices\n",
    "* n of edges\n",
    "* mean vertex degree\n",
    "* alpha estimate from power law\n",
    "* average path length\n",
    "* pearson's correlation coefficient\n",
    "\n",
    " Let’s fill the above list with metrics od selected real networks,\n",
    "use the built-in functions for counting the parameters. Compare\n",
    "the results with the literature."
   ]
  },
  {
   "cell_type": "code",
   "execution_count": 2,
   "id": "4d195513",
   "metadata": {},
   "outputs": [
    {
     "name": "stderr",
     "output_type": "stream",
     "text": [
      "C:\\Users\\Patryk\\AppData\\Local\\Temp\\ipykernel_19652\\303327542.py:50: ParserWarning: Falling back to the 'python' engine because the 'c' engine does not support regex separators (separators > 1 char and different from '\\s+' are interpreted as regex); you can avoid this warning by specifying engine='python'.\n",
      "  football_nodes = pd.read_csv(\"football/nodes.txt\", sep = \"\\s\", header = None).loc[:,[0,1,5,6,7]]\n"
     ]
    }
   ],
   "source": [
    "# loading networks\n",
    "\n",
    "\n",
    "# separate books\n",
    "\n",
    "t1 = pd.read_csv(\"gameofthrones/data/got-s1-edges.csv\")\n",
    "l1 = pd.read_csv(\"gameofthrones/data/got-s1-nodes.csv\")\n",
    "\n",
    "super_map = pd.Series(l1.Label.values,index=l1.Id).to_dict() \n",
    "t1['Source'] = t1['Source'].map(super_map)\n",
    "t1['Target'] = t1['Target'].map(super_map)\n",
    "G1 = nx.from_pandas_edgelist(t1, 'Source', 'Target', edge_attr='Weight')\n",
    "\n",
    "t2 = pd.read_csv(\"gameofthrones/data/got-s2-edges.csv\")\n",
    "l2 = pd.read_csv(\"gameofthrones/data/got-s2-nodes.csv\")\n",
    "\n",
    "super_map = pd.Series(l2.Label.values,index=l2.Id).to_dict() \n",
    "t2['Source'] = t2['Source'].map(super_map)\n",
    "t2['Target'] = t2['Target'].map(super_map)\n",
    "G2 = nx.from_pandas_edgelist(t2, 'Source', 'Target', edge_attr='Weight')\n",
    "\n",
    "t3 = pd.read_csv(\"gameofthrones/data/got-s3-edges.csv\")\n",
    "l3 = pd.read_csv(\"gameofthrones/data/got-s3-nodes.csv\")\n",
    "\n",
    "super_map = pd.Series(l3.Label.values,index=l3.Id).to_dict() \n",
    "t3['Source'] = t3['Source'].map(super_map)\n",
    "t3['Target'] = t3['Target'].map(super_map)\n",
    "G3 = nx.from_pandas_edgelist(t3, 'Source', 'Target', edge_attr='Weight')\n",
    "\n",
    "t4 = pd.read_csv(\"gameofthrones/data/got-s4-edges.csv\")\n",
    "l4 = pd.read_csv(\"gameofthrones/data/got-s4-nodes.csv\")\n",
    "\n",
    "super_map = pd.Series(l4.Label.values,index=l4.Id).to_dict() \n",
    "t4['Source'] = t4['Source'].map(super_map)\n",
    "t4['Target'] = t4['Target'].map(super_map)\n",
    "G4 = nx.from_pandas_edgelist(t4, 'Source', 'Target', edge_attr='Weight')\n",
    "\n",
    "# openflights\n",
    "\n",
    "\n",
    "\n",
    "openflights = pd.read_csv(\"infopenflights/inf-openflights.edges\", comment = \"%\", header = None, sep = \" \").loc[:, [0,1]]\n",
    "openflights.columns = ['Source', 'Target']\n",
    "\n",
    "G5 = nx.from_pandas_edgelist(openflights, 'Source', 'Target')\n",
    "\n",
    "# football\n",
    "\n",
    "\n",
    "football_nodes = pd.read_csv(\"football/nodes.txt\", sep = \"\\s\", header = None).loc[:,[0,1,5,6,7]]\n",
    "data = pd.read_csv(\"football/new_edges.csv\", index_col = 0, sep = \",\")\n",
    "data.columns = ['Source', 'Target', 'weight']\n",
    "\n",
    "\n",
    "super_map = pd.Series(football_nodes.iloc[:,1].values,index=football_nodes.iloc[:,0]).to_dict() \n",
    "\n",
    "data['Source'] = data['Source'].map(super_map)\n",
    "data['Target'] = data['Target'].map(super_map)\n",
    "\n",
    "G6 = nx.from_pandas_edgelist(data, 'Source', 'Target', edge_attr='weight', create_using=nx.DiGraph())\n",
    "\n",
    "\n",
    "\n"
   ]
  },
  {
   "cell_type": "code",
   "execution_count": 3,
   "id": "eac209b7",
   "metadata": {},
   "outputs": [
    {
     "name": "stdout",
     "output_type": "stream",
     "text": [
      "GOT1_SERIES\n",
      "GOT2_SERIES\n",
      "GOT3_SERIES\n",
      "GOT4_SERIES\n",
      "OPENFLIGHTS\n",
      "FOOTBALL\n"
     ]
    },
    {
     "data": {
      "text/html": [
       "<div>\n",
       "<style scoped>\n",
       "    .dataframe tbody tr th:only-of-type {\n",
       "        vertical-align: middle;\n",
       "    }\n",
       "\n",
       "    .dataframe tbody tr th {\n",
       "        vertical-align: top;\n",
       "    }\n",
       "\n",
       "    .dataframe thead th {\n",
       "        text-align: right;\n",
       "    }\n",
       "</style>\n",
       "<table border=\"1\" class=\"dataframe\">\n",
       "  <thead>\n",
       "    <tr style=\"text-align: right;\">\n",
       "      <th></th>\n",
       "      <th>name</th>\n",
       "      <th>directed</th>\n",
       "      <th>N</th>\n",
       "      <th>E</th>\n",
       "      <th>&lt;k&gt;</th>\n",
       "      <th>a</th>\n",
       "      <th>l</th>\n",
       "      <th>r</th>\n",
       "    </tr>\n",
       "  </thead>\n",
       "  <tbody>\n",
       "    <tr>\n",
       "      <th>0</th>\n",
       "      <td>GOT1_SERIES</td>\n",
       "      <td>False</td>\n",
       "      <td>126</td>\n",
       "      <td>549</td>\n",
       "      <td>8.714286</td>\n",
       "      <td>1.601685</td>\n",
       "      <td>2.644698</td>\n",
       "      <td>-0.117789</td>\n",
       "    </tr>\n",
       "    <tr>\n",
       "      <th>1</th>\n",
       "      <td>GOT2_SERIES</td>\n",
       "      <td>False</td>\n",
       "      <td>129</td>\n",
       "      <td>486</td>\n",
       "      <td>7.534884</td>\n",
       "      <td>1.633997</td>\n",
       "      <td>not connected</td>\n",
       "      <td>0.041098</td>\n",
       "    </tr>\n",
       "    <tr>\n",
       "      <th>2</th>\n",
       "      <td>GOT3_SERIES</td>\n",
       "      <td>False</td>\n",
       "      <td>124</td>\n",
       "      <td>504</td>\n",
       "      <td>8.129032</td>\n",
       "      <td>1.572462</td>\n",
       "      <td>3.258327</td>\n",
       "      <td>0.068947</td>\n",
       "    </tr>\n",
       "    <tr>\n",
       "      <th>3</th>\n",
       "      <td>GOT4_SERIES</td>\n",
       "      <td>False</td>\n",
       "      <td>172</td>\n",
       "      <td>667</td>\n",
       "      <td>7.755814</td>\n",
       "      <td>1.616991</td>\n",
       "      <td>not connected</td>\n",
       "      <td>-0.009834</td>\n",
       "    </tr>\n",
       "    <tr>\n",
       "      <th>4</th>\n",
       "      <td>OPENFLIGHTS</td>\n",
       "      <td>False</td>\n",
       "      <td>2939</td>\n",
       "      <td>15677</td>\n",
       "      <td>10.668255</td>\n",
       "      <td>1.722690</td>\n",
       "      <td>not connected</td>\n",
       "      <td>0.050916</td>\n",
       "    </tr>\n",
       "    <tr>\n",
       "      <th>5</th>\n",
       "      <td>FOOTBALL</td>\n",
       "      <td>True</td>\n",
       "      <td>35</td>\n",
       "      <td>118</td>\n",
       "      <td>6.742857</td>\n",
       "      <td>1.604810</td>\n",
       "      <td>not connected</td>\n",
       "      <td>-0.197589</td>\n",
       "    </tr>\n",
       "  </tbody>\n",
       "</table>\n",
       "</div>"
      ],
      "text/plain": [
       "          name  directed     N      E        <k>         a              l  \\\n",
       "0  GOT1_SERIES     False   126    549   8.714286  1.601685       2.644698   \n",
       "1  GOT2_SERIES     False   129    486   7.534884  1.633997  not connected   \n",
       "2  GOT3_SERIES     False   124    504   8.129032  1.572462       3.258327   \n",
       "3  GOT4_SERIES     False   172    667   7.755814  1.616991  not connected   \n",
       "4  OPENFLIGHTS     False  2939  15677  10.668255  1.722690  not connected   \n",
       "5     FOOTBALL      True    35    118   6.742857  1.604810  not connected   \n",
       "\n",
       "          r  \n",
       "0 -0.117789  \n",
       "1  0.041098  \n",
       "2  0.068947  \n",
       "3 -0.009834  \n",
       "4  0.050916  \n",
       "5 -0.197589  "
      ]
     },
     "execution_count": 3,
     "metadata": {},
     "output_type": "execute_result"
    }
   ],
   "source": [
    "\n",
    "\n",
    "def alpha_estimator_max_likelihood(x):\n",
    "    x_min = min(x) # probably a biased estimator of x_min\n",
    "    return(1 + len(x)/(np.log(x_min) + sum(np.log(x))))\n",
    "\n",
    "def createTable(G : nx.graph, name='', directed=False) -> dict:\n",
    "    degrees = list(dict(G.degree).values())\n",
    "    print(name)\n",
    "    \n",
    "    if type(G) == nx.classes.digraph.DiGraph:\n",
    "        if nx.is_strongly_connected(G):\n",
    "            av = nx.average_shortest_path_length(G)\n",
    "        else:\n",
    "            av = 'not connected'\n",
    "    else:\n",
    "        if nx.is_connected(G):\n",
    "            av = nx.average_shortest_path_length(G)\n",
    "        else:\n",
    "            av = 'not connected'\n",
    "    \n",
    "    \n",
    "    \n",
    "    return {\n",
    "        'name': name,\n",
    "        'directed': directed,\n",
    "        'N' : len(G.nodes),\n",
    "        'E' : len(G.edges),\n",
    "        '<k>': np.mean(degrees),\n",
    "        'a': alpha_estimator_max_likelihood(degrees),\n",
    "        'l': av,\n",
    "        'r': nx.degree_pearson_correlation_coefficient(G)\n",
    "    }\n",
    "ba = nx.generators.barabasi_albert_graph(1000, 10)\n",
    "graphs = [{'G': G1, 'name' : 'GOT1_SERIES'},\n",
    "          {'G': G2, 'name' : 'GOT2_SERIES'},\n",
    "          {'G': G3, 'name' : 'GOT3_SERIES'},\n",
    "          {'G': G4, 'name' : 'GOT4_SERIES'},\n",
    "          {'G': G5, 'name' : 'OPENFLIGHTS'},\n",
    "          {'G': G6, 'name' : 'FOOTBALL', 'directed' : True}\n",
    "          ]\n",
    "pd.DataFrame([createTable(**kwargs) for kwargs in graphs])\n",
    "\n"
   ]
  },
  {
   "cell_type": "markdown",
   "id": "72b99811",
   "metadata": {},
   "source": [
    "# Analysis with the literature\n",
    "\n",
    "https://networkofthrones.wordpress.com/the-series\n",
    "\n",
    "got1 series -- 127 nodes (characters) and 550 edges \n",
    "got2 series -- 129 nodes (characters) and 486 edges \n",
    "got3 series -- 151 nodes (characters) and 570 edges\n",
    "got4 series -- 172 nodes (characters) and 667 edges\n",
    "\n",
    "other parameters not found\n",
    "\n",
    "https://networkrepository.com/inf-openflights.php\n",
    "    \n",
    "2.9K nodes, 30.5K edges ( number of edges is not the same), average degree 20 ( whereas here it is 10.67), correlation coefficient not found\n",
    "\n",
    "http://vlado.fmf.uni-lj.si/pub/networks/data/sport/football.htm\n",
    "\n",
    "35 vertices, no other data found\n",
    "\n",
    "\n",
    "\n",
    "# Other commentaries\n",
    "\n",
    "\n",
    "**Alpha** estimators are reasonable, comparable across each network -- 1.5 to 1.7. It could be noticed that larger the average degree, the larger alpha estimator (scaling parameter of the distribution), but the influence is small and requires further investigation.\n",
    "\n",
    "Shortest path length did not exist for unconnected graphs -- it is undefined for them.\n",
    "\n"
   ]
  },
  {
   "cell_type": "code",
   "execution_count": null,
   "id": "b042c2e1",
   "metadata": {},
   "outputs": [],
   "source": []
  },
  {
   "cell_type": "markdown",
   "id": "26af20f2",
   "metadata": {},
   "source": [
    "# 4.1 Power law in the real data - case study\n",
    "\n"
   ]
  },
  {
   "cell_type": "markdown",
   "id": "4c576cfe",
   "metadata": {},
   "source": [
    "Excercise 1.\n",
    "Import the data, draw their histogram"
   ]
  },
  {
   "cell_type": "code",
   "execution_count": 42,
   "id": "d3c1815c",
   "metadata": {},
   "outputs": [
    {
     "data": {
      "text/plain": [
       "(array([68., 31., 10.,  5.,  6.,  2.,  2.,  1.,  0.,  1.]),\n",
       " array([ 1. ,  6.6, 12.2, 17.8, 23.4, 29. , 34.6, 40.2, 45.8, 51.4, 57. ]),\n",
       " <BarContainer object of 10 artists>)"
      ]
     },
     "execution_count": 42,
     "metadata": {},
     "output_type": "execute_result"
    },
    {
     "data": {
      "image/png": "[encoded data removed]",
      "text/plain": [
       "<Figure size 640x480 with 1 Axes>"
      ]
     },
     "metadata": {},
     "output_type": "display_data"
    }
   ],
   "source": [
    "X = list(dict(G1.degree).values())\n",
    "plt.hist(X)\n",
    "\n"
   ]
  },
  {
   "cell_type": "markdown",
   "id": "2496247a",
   "metadata": {},
   "source": [
    "Excercise 2.\n",
    "Correct the scale of the plot’s axes to double logarithmic."
   ]
  },
  {
   "cell_type": "code",
   "execution_count": 43,
   "id": "e5676395",
   "metadata": {},
   "outputs": [
    {
     "data": {
      "image/png": "[encoded data removed]",
      "text/plain": [
       "<Figure size 640x480 with 1 Axes>"
      ]
     },
     "metadata": {},
     "output_type": "display_data"
    }
   ],
   "source": [
    "\n",
    "\n",
    "plt.hist(X)\n",
    "plt.yscale('log')\n",
    "plt.xscale('log')\n",
    "\n"
   ]
  },
  {
   "cell_type": "markdown",
   "id": "422c002e",
   "metadata": {},
   "source": [
    "Excercise 3.\n",
    "Apply logarithmic binning as well."
   ]
  },
  {
   "cell_type": "code",
   "execution_count": 67,
   "id": "a0ae3714",
   "metadata": {},
   "outputs": [
    {
     "data": {
      "image/png": "[encoded data removed]",
      "text/plain": [
       "<Figure size 640x480 with 1 Axes>"
      ]
     },
     "metadata": {},
     "output_type": "display_data"
    }
   ],
   "source": [
    "HIST = plt.hist(obs, bins = np.exp(np.linspace(np.log(min(X)), np.log(max(X)), 16)))\n",
    "plt.yscale('log')\n",
    "plt.xscale('log')"
   ]
  },
  {
   "cell_type": "markdown",
   "id": "e395f641",
   "metadata": {},
   "source": [
    "Ex.4 Compute and draw the survival function"
   ]
  },
  {
   "cell_type": "code",
   "execution_count": 60,
   "id": "57bf1b45",
   "metadata": {},
   "outputs": [
    {
     "data": {
      "text/plain": [
       "[<matplotlib.lines.Line2D at 0x1e995b66b00>]"
      ]
     },
     "execution_count": 60,
     "metadata": {},
     "output_type": "execute_result"
    },
    {
     "data": {
      "image/png": "[encoded data removed]",
      "text/plain": [
       "<Figure size 640x480 with 1 Axes>"
      ]
     },
     "metadata": {},
     "output_type": "display_data"
    }
   ],
   "source": [
    "def survFunction(x: float, X=X) -> float:\n",
    "    # cumulative distribution function\n",
    "    cdf = len(list(filter(lambda v: v<x, X)))/len(X)\n",
    "    return 1-cdf\n",
    "x2=np.unique(obs)\n",
    "y2=[survFunction(x) for x in x2]\n",
    "plt.plot(x2, y2)"
   ]
  },
  {
   "cell_type": "markdown",
   "id": "2d3ac59c",
   "metadata": {},
   "source": [
    "Excercise 5.\n",
    "Which chart is the most readable? Which is most robust for the\n",
    "noise?\n",
    "\n",
    "-- the most readable is survival function chart, whereas the most robust is first histogram or survival function chart\n",
    "\n",
    "-- the second histogram is very sensitive to the noise"
   ]
  },
  {
   "cell_type": "markdown",
   "id": "ef2a52c6",
   "metadata": {},
   "source": [
    "Excercise 6.\n",
    "Use the linear regression to the previous plots to determine the $\\alpha$\n",
    "parameter estimator."
   ]
  },
  {
   "cell_type": "code",
   "execution_count": 68,
   "id": "2fa92690",
   "metadata": {},
   "outputs": [
    {
     "data": {
      "text/plain": [
       "(array([[-0.19938646]]), array([11.17838641]))"
      ]
     },
     "execution_count": 68,
     "metadata": {},
     "output_type": "execute_result"
    }
   ],
   "source": [
    "from sklearn.linear_model import LinearRegression\n",
    "log_y = HIST[0].reshape(-1,1)\n",
    "log_x = np.array([(a+b)/2 for a,b in zip(HIST[1][:-1], HIST[1][1:], )]).reshape(-1,1) # mids of intervals as representative points for linear regression\n",
    "model = LinearRegression(fit_intercept=True).fit(log_x, log_y)\n",
    "model.coef_, model.intercept_\n"
   ]
  },
  {
   "cell_type": "markdown",
   "id": "fcb1afb8",
   "metadata": {},
   "source": [
    " log(y) = $\\alpha$ * log(x) + $\\beta$\n",
    " \n",
    " alpha = - 0.19938646"
   ]
  },
  {
   "cell_type": "markdown",
   "id": "2a838c66",
   "metadata": {},
   "source": [
    "Exercice 7"
   ]
  },
  {
   "cell_type": "code",
   "execution_count": 64,
   "id": "c1919c6d",
   "metadata": {},
   "outputs": [],
   "source": [
    "def alpha_estimator_max_likelihood(x):\n",
    "    x_min = min(x) # probably a biased estimator of x_min\n",
    "    return(1 + len(x)/(np.log(x_min) + sum(np.log(x))))"
   ]
  },
  {
   "cell_type": "code",
   "execution_count": 63,
   "id": "e1406999",
   "metadata": {},
   "outputs": [
    {
     "data": {
      "text/plain": [
       "1.6016851448924934"
      ]
     },
     "execution_count": 63,
     "metadata": {},
     "output_type": "execute_result"
    }
   ],
   "source": [
    "alpha_estimator_max_likelihood(X)"
   ]
  },
  {
   "cell_type": "markdown",
   "id": "5594f5e1",
   "metadata": {},
   "source": [
    "Exercice 8"
   ]
  },
  {
   "cell_type": "markdown",
   "id": "086fe70c",
   "metadata": {},
   "source": [
    "the resulting **x_min** will be larger than its actual value (because of biased estimator) so the resulting **alpha** will be smaller"
   ]
  },
  {
   "cell_type": "markdown",
   "id": "e11ed9f2",
   "metadata": {},
   "source": [
    "\n",
    "# P4.1\n",
    "\n",
    "Collect obtained scripts for power distribution analysis.\n",
    "\n",
    "Collected.\n"
   ]
  },
  {
   "cell_type": "markdown",
   "id": "47849ae2",
   "metadata": {},
   "source": [
    "# P4.3 \n",
    "\n",
    "Determine the dependence of the average degree of the nearest\n",
    "neighbor on the degree of the vertex for selected real or artifical\n",
    "networks."
   ]
  },
  {
   "cell_type": "code",
   "execution_count": 9,
   "id": "234a8fff",
   "metadata": {},
   "outputs": [],
   "source": [
    "def average_degree(G: nx.Graph, k: int): \n",
    "    degrees = dict(G.degree)\n",
    "    nodes_having_k_degree = [n for n, v in degrees.items() if v == k] # collecting nodes having k-th degree\n",
    "    averages = [np.sum([degrees[i] for i in G.neighbors(node)]) / k for node in nodes_having_k_degree]\n",
    "    \n",
    "    return np.mean(np.array(averages))"
   ]
  },
  {
   "cell_type": "code",
   "execution_count": 10,
   "id": "33d299e4",
   "metadata": {},
   "outputs": [
    {
     "data": {
      "text/plain": [
       "(0.0, 40.3125)"
      ]
     },
     "execution_count": 10,
     "metadata": {},
     "output_type": "execute_result"
    },
    {
     "data": {
      "image/png": "[encoded data removed]",
      "text/plain": [
       "<Figure size 640x480 with 1 Axes>"
      ]
     },
     "metadata": {},
     "output_type": "display_data"
    }
   ],
   "source": [
    "unique_degrees = np.unique(list(dict(G1.degree).values()))\n",
    "av_degrees = [average_degree(G1, k) for k in unique_degrees]\n",
    "\n",
    "plt.plot(unique_degrees, av_degrees)\n",
    "plt.ylim(0, np.max(av_degrees)*1.5)"
   ]
  },
  {
   "cell_type": "markdown",
   "id": "095fa980",
   "metadata": {},
   "source": [
    "# P4.4 \n",
    "\n",
    "Check how random edge switching affects the result of the\n",
    "previous task. "
   ]
  },
  {
   "cell_type": "code",
   "execution_count": 12,
   "id": "5a430a4e",
   "metadata": {},
   "outputs": [],
   "source": [
    "\n",
    "# randomly switching\n",
    "n_of_edges = len(G1.edges)\n",
    "G1_ = nx.algorithms.swap.double_edge_swap(G1, nswap=n_of_edges, max_tries=n_of_edges*2)\n",
    "\n"
   ]
  },
  {
   "cell_type": "code",
   "execution_count": 13,
   "id": "ddf52a02",
   "metadata": {},
   "outputs": [
    {
     "data": {
      "text/plain": [
       "(0.0, 36.63333333333333)"
      ]
     },
     "execution_count": 13,
     "metadata": {},
     "output_type": "execute_result"
    },
    {
     "data": {
      "image/png": "[encoded data removed]",
      "text/plain": [
       "<Figure size 640x480 with 1 Axes>"
      ]
     },
     "metadata": {},
     "output_type": "display_data"
    }
   ],
   "source": [
    "# plotting the same plot\n",
    "\n",
    "unique_degrees = np.unique(list(dict(G1_.degree).values()))\n",
    "av_degrees = [average_degree(G1_, k) for k in unique_degrees]\n",
    "\n",
    "plt.plot(unique_degrees, av_degrees)\n",
    "plt.ylim(0, np.max(av_degrees)*1.5)"
   ]
  },
  {
   "cell_type": "markdown",
   "id": "4e08cf66",
   "metadata": {},
   "source": [
    "The plots look similar."
   ]
  },
  {
   "cell_type": "markdown",
   "id": "014438f8",
   "metadata": {},
   "source": [
    "# P4.6 \n",
    "\n",
    "Find the correlation coefficient for the network from task\n",
    "P4.3-P4..4 (before and after edge switching). "
   ]
  },
  {
   "cell_type": "code",
   "execution_count": 17,
   "id": "2604ff9f",
   "metadata": {},
   "outputs": [
    {
     "name": "stdout",
     "output_type": "stream",
     "text": [
      "Correlation coefficient before edge switching -0.1820915657146505\n",
      "Correlation coefficient after edge switching -0.1820915657146505\n"
     ]
    }
   ],
   "source": [
    "\n",
    "\n",
    "print('Correlation coefficient before edge switching ' + str(nx.degree_pearson_correlation_coefficient(G1)))\n",
    "print('Correlation coefficient after edge switching ' + str(nx.degree_pearson_correlation_coefficient(G1_)))\n"
   ]
  },
  {
   "cell_type": "markdown",
   "id": "9d8f8424",
   "metadata": {},
   "source": [
    "The coefficient did not change much."
   ]
  }
 ],
 "metadata": {
  "kernelspec": {
   "display_name": "Python 3 (ipykernel)",
   "language": "python",
   "name": "python3"
  },
  "language_info": {
   "codemirror_mode": {
    "name": "ipython",
    "version": 3
   },
   "file_extension": ".py",
   "mimetype": "text/x-python",
   "name": "python",
   "nbconvert_exporter": "python",
   "pygments_lexer": "ipython3",
   "version": "3.10.8"
  }
 },
 "nbformat": 4,
 "nbformat_minor": 5
}
